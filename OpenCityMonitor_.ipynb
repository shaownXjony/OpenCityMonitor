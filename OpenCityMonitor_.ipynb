{
  "nbformat": 4,
  "nbformat_minor": 0,
  "metadata": {
    "colab": {
      "provenance": [],
      "authorship_tag": "ABX9TyO7a5+eEtvTf2io2A2CZZR1",
      "include_colab_link": true
    },
    "kernelspec": {
      "name": "python3",
      "display_name": "Python 3"
    },
    "language_info": {
      "name": "python"
    }
  },
  "cells": [
    {
      "cell_type": "markdown",
      "metadata": {
        "id": "view-in-github",
        "colab_type": "text"
      },
      "source": [
        "<a href=\"https://colab.research.google.com/github/shaownXjony/OpenCityMonitor/blob/main/OpenCityMonitor_.ipynb\" target=\"_parent\"><img src=\"https://colab.research.google.com/assets/colab-badge.svg\" alt=\"Open In Colab\"/></a>"
      ]
    },
    {
      "cell_type": "markdown",
      "source": [
        "Show the date, time, temperature of a city"
      ],
      "metadata": {
        "id": "anLYt8zEuD4H"
      }
    },
    {
      "cell_type": "code",
      "execution_count": null,
      "metadata": {
        "colab": {
          "base_uri": "https://localhost:8080/"
        },
        "id": "-iCHKtisuDF3",
        "outputId": "e32bba1d-6ccb-4a4d-94c2-3cb78ee9df44",
        "collapsed": true
      },
      "outputs": [
        {
          "output_type": "stream",
          "name": "stdout",
          "text": [
            "Requirement already satisfied: geopy in /usr/local/lib/python3.11/dist-packages (2.4.1)\n",
            "Requirement already satisfied: geographiclib<3,>=1.52 in /usr/local/lib/python3.11/dist-packages (from geopy) (2.0)\n"
          ]
        }
      ],
      "source": [
        "!pip install geopy"
      ]
    },
    {
      "cell_type": "code",
      "source": [
        "!pip install timezonefinder"
      ],
      "metadata": {
        "colab": {
          "base_uri": "https://localhost:8080/"
        },
        "id": "N2wZaNmV614C",
        "outputId": "a85f0420-8c45-480a-8eb5-1de6947b0e79",
        "collapsed": true
      },
      "execution_count": null,
      "outputs": [
        {
          "output_type": "stream",
          "name": "stdout",
          "text": [
            "Collecting timezonefinder\n",
            "  Downloading timezonefinder-6.5.9-cp311-cp311-manylinux_2_17_x86_64.manylinux_2_5_x86_64.manylinux1_x86_64.manylinux2014_x86_64.whl.metadata (4.1 kB)\n",
            "Requirement already satisfied: cffi<2,>=1.15.1 in /usr/local/lib/python3.11/dist-packages (from timezonefinder) (1.17.1)\n",
            "Collecting h3>4 (from timezonefinder)\n",
            "  Downloading h3-4.2.2-cp311-cp311-manylinux_2_17_x86_64.manylinux2014_x86_64.whl.metadata (18 kB)\n",
            "Requirement already satisfied: numpy<3,>=1.23 in /usr/local/lib/python3.11/dist-packages (from timezonefinder) (2.0.2)\n",
            "Requirement already satisfied: pycparser in /usr/local/lib/python3.11/dist-packages (from cffi<2,>=1.15.1->timezonefinder) (2.22)\n",
            "Downloading timezonefinder-6.5.9-cp311-cp311-manylinux_2_17_x86_64.manylinux_2_5_x86_64.manylinux1_x86_64.manylinux2014_x86_64.whl (51.4 MB)\n",
            "\u001b[2K   \u001b[90m━━━━━━━━━━━━━━━━━━━━━━━━━━━━━━━━━━━━━━━━\u001b[0m \u001b[32m51.4/51.4 MB\u001b[0m \u001b[31m14.3 MB/s\u001b[0m eta \u001b[36m0:00:00\u001b[0m\n",
            "\u001b[?25hDownloading h3-4.2.2-cp311-cp311-manylinux_2_17_x86_64.manylinux2014_x86_64.whl (1.0 MB)\n",
            "\u001b[2K   \u001b[90m━━━━━━━━━━━━━━━━━━━━━━━━━━━━━━━━━━━━━━━━\u001b[0m \u001b[32m1.0/1.0 MB\u001b[0m \u001b[31m51.2 MB/s\u001b[0m eta \u001b[36m0:00:00\u001b[0m\n",
            "\u001b[?25hInstalling collected packages: h3, timezonefinder\n",
            "Successfully installed h3-4.2.2 timezonefinder-6.5.9\n"
          ]
        }
      ]
    },
    {
      "cell_type": "code",
      "source": [
        "from geopy.geocoders import Nominatim\n",
        "from timezonefinder import TimezoneFinder\n",
        "from datetime import datetime\n",
        "import requests\n",
        "import pytz\n",
        "import json\n",
        "\n",
        "\n",
        "geolocator = Nominatim(user_agent=\"my-geocoding-script\")\n",
        "get_location=input(\"Enter name of the location: \")\n",
        "location = geolocator.geocode(get_location)\n",
        "print(\"Location: \", location.address)\n",
        "print(f\"Latitude: {location.latitude},Longitude: {location.longitude}\")\n",
        "#print(location.raw)\n",
        "\n",
        "#import API with hide\n",
        "with open(\"config.json\") as config_file:\n",
        "    config = json.load(config_file)\n",
        "API_KEY = config[\"api_key\"]\n",
        "\n",
        "\n",
        "\n",
        "# Get the timezone object\n",
        "obj = TimezoneFinder()\n",
        "result = obj.timezone_at(lng=location.longitude, lat=location.latitude)\n",
        "\n",
        "\n",
        "\n",
        "tz_loc = pytz.timezone(result)\n",
        "\n",
        "# Get the current time\n",
        "datetime_loc = datetime.now(tz_loc)\n",
        "day_loc=datetime.now(tz_loc)\n",
        "\n",
        "print(\"Time Zone : \", result)\n",
        "print(get_location+\" Date:\",day_loc.strftime(\"%A, %d-%B-%Y\"))\n",
        "print(get_location+ \" time:\", datetime_loc.strftime(\"%H:%M:%S\"))\n",
        "\n",
        "\n",
        "# Location coordinates\n",
        "LATITUDE = location.latitude\n",
        "LONGITUDE = location.longitude\n",
        "\n",
        "# OpenWeatherMap API endpoint\n",
        "BASE_URL = \"http://api.openweathermap.org/data/2.5/weather?\"\n",
        "\n",
        "# Build the API request URL\n",
        "url = f\"{BASE_URL}appid={API_KEY}&lat={LATITUDE}&lon={LONGITUDE}&units=metric\"\n",
        "\n",
        "# Make the API request\n",
        "try:\n",
        "    response = requests.get(url)\n",
        "    response.raise_for_status()  # Raise an exception for bad status codes\n",
        "except requests.exceptions.RequestException as e:\n",
        "    print(f\"Error making API request: {e}\")\n",
        "    exit()\n",
        "\n",
        "# Parse the JSON response\n",
        "try:\n",
        "    data = response.json()\n",
        "    temperature_celcius = data[\"main\"][\"temp\"]\n",
        "    temperature_fahrenheit=(temperature_celcius * 9/5) + 32\n",
        "    print(f\"Current temperature(Celcius): {temperature_celcius}°C\")\n",
        "    print(f\"Current temperature(Fahrenheit): {temperature_fahrenheit}°F\")\n",
        "except ValueError:\n",
        "    print(\"Error: Could not parse JSON response\")\n",
        "    exit()\n",
        "except KeyError:\n",
        "    print(\"Error: Missing temperature data in JSON response\")\n",
        "    exit()\n",
        "except Exception as e:\n",
        "    print(f\"An unexpected error occurred: {e}\")\n",
        "    exit()\n"
      ],
      "metadata": {
        "colab": {
          "base_uri": "https://localhost:8080/"
        },
        "id": "4gTDpnZh8Wyt",
        "outputId": "6cfc5b7a-5890-4261-b17d-513249e961d6"
      },
      "execution_count": null,
      "outputs": [
        {
          "output_type": "stream",
          "name": "stdout",
          "text": [
            "Enter name of the location: Dhaka\n",
            "Location:  ঢাকা, ঢাকা মহানগর, ঢাকা জেলা, ঢাকা বিভাগ, 1215, বাংলাদেশ\n",
            "Latitude: 23.7643863,Longitude: 90.3890144\n",
            "Time Zone :  Asia/Dhaka\n",
            "Dhaka Date: Thursday, 15-May-2025\n",
            "Dhaka time: 20:42:26\n",
            "Current temperature(Celcius): 27.71°C\n",
            "Current temperature(Fahrenheit): 81.878°F\n"
          ]
        }
      ]
    },
    {
      "cell_type": "code",
      "source": [],
      "metadata": {
        "id": "8DhH2QfNZXUh"
      },
      "execution_count": null,
      "outputs": []
    }
  ]
}